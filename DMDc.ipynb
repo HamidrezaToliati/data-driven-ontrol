{
 "cells": [
  {
   "cell_type": "code",
   "execution_count": 1,
   "id": "4e01fbbc",
   "metadata": {},
   "outputs": [],
   "source": [
    "import numpy as np\n",
    "import matplotlib.pyplot as plt\n",
    "from numpy import linalg"
   ]
  },
  {
   "cell_type": "code",
   "execution_count": 2,
   "id": "554d4572",
   "metadata": {},
   "outputs": [
    {
     "name": "stdout",
     "output_type": "stream",
     "text": [
      "[[0.9 0. ]\n",
      " [0.  0.8]]\n"
     ]
    }
   ],
   "source": [
    "A = np.array([[0.9, 0], [0, 1.1]])\n",
    "B = np.array([[0], [1]])\n",
    "K = np.array([[0, 0.3]])\n",
    "CL = A - np.dot(B, K)\n",
    "print(CL)\n",
    "# u = -k*x"
   ]
  },
  {
   "cell_type": "markdown",
   "id": "ec939843",
   "metadata": {},
   "source": [
    "## Generate Data"
   ]
  },
  {
   "cell_type": "code",
   "execution_count": 3,
   "id": "756d6a82",
   "metadata": {},
   "outputs": [
    {
     "data": {
      "image/png": "[encoded data removed]",
      "text/plain": [
       "<Figure size 432x288 with 1 Axes>"
      ]
     },
     "metadata": {
      "needs_background": "light"
     },
     "output_type": "display_data"
    }
   ],
   "source": [
    "## initial condition\n",
    "number_of_time_steps = 10\n",
    "\n",
    "x = np.zeros([2, number_of_time_steps + 1])\n",
    "u = np.zeros([number_of_time_steps])\n",
    "x[:, 0] = np.array([[10, 10]])\n",
    "for time_step in range(number_of_time_steps):\n",
    "    u[time_step] = np.dot(-K, x[:, time_step])\n",
    "    calc_x = np.dot(A, x[:, time_step].reshape((2, 1))) + np.dot(B, u[time_step])\n",
    "    x[:, time_step+1] = calc_x.reshape((1, 2))\n",
    "    \n",
    "plt.plot(range(number_of_time_steps+1), np.matrix.transpose(x))\n",
    "plt.show()"
   ]
  },
  {
   "cell_type": "markdown",
   "id": "6d923a7b",
   "metadata": {},
   "source": [
    "## testing the naive DMD"
   ]
  },
  {
   "cell_type": "code",
   "execution_count": 4,
   "id": "6e984a9a",
   "metadata": {},
   "outputs": [
    {
     "name": "stdout",
     "output_type": "stream",
     "text": [
      "[[ 9.00000000e-01  0.00000000e+00]\n",
      " [-5.55111512e-17  8.00000000e-01]]\n"
     ]
    }
   ],
   "source": [
    "X = x[:, 0:-1]\n",
    "X2 = x[:, 1:]\n",
    "Anaive = np.dot(X2, linalg.pinv(X))\n",
    "print(Anaive)"
   ]
  },
  {
   "cell_type": "markdown",
   "id": "dd8de5ec",
   "metadata": {},
   "source": [
    "## correct DMDC model"
   ]
  },
  {
   "cell_type": "code",
   "execution_count": 5,
   "id": "0e2fb502",
   "metadata": {},
   "outputs": [
    {
     "data": {
      "text/plain": [
       "array([[ 9.00000000e-01,  0.00000000e+00],\n",
       "       [-2.22044605e-16,  1.10000000e+00]])"
      ]
     },
     "execution_count": 5,
     "metadata": {},
     "output_type": "execute_result"
    }
   ],
   "source": [
    "upsilon = u\n",
    "Acorrect = np.dot(X2 - np.dot(B, u.reshape(1, 10)), linalg.pinv(X))\n",
    "Acorrect"
   ]
  }
 ],
 "metadata": {
  "kernelspec": {
   "display_name": "myenv",
   "language": "python",
   "name": "myenv"
  },
  "language_info": {
   "codemirror_mode": {
    "name": "ipython",
    "version": 3
   },
   "file_extension": ".py",
   "mimetype": "text/x-python",
   "name": "python",
   "nbconvert_exporter": "python",
   "pygments_lexer": "ipython3",
   "version": "3.9.7"
  }
 },
 "nbformat": 4,
 "nbformat_minor": 5
}
